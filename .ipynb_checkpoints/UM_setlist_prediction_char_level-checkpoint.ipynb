{
 "cells": [
  {
   "cell_type": "markdown",
   "id": "1873e777",
   "metadata": {},
   "source": [
    "Umphrey's McGee (UM) is an American progressive rock band that plays many live shows and writes an original setlist for each of their shows, similar to the Grateful Dead. The goal of this project is to create an LSTM neural network (with Tensorflow and Keras) that can predict imaginary setlists from the band."
   ]
  },
  {
   "cell_type": "code",
   "execution_count": 1,
   "id": "5cc88411",
   "metadata": {
    "id": "5cc88411"
   },
   "outputs": [],
   "source": [
    "import requests\n",
    "from bs4 import BeautifulSoup\n",
    "import pandas as pd\n",
    "import numpy as np\n",
    "import seaborn as sns\n",
    "from matplotlib import pyplot as plt\n",
    "import random\n",
    "import re\n",
    "import tensorflow as tf\n",
    "import sys\n",
    "\n",
    "from tensorflow.keras.layers import Dense, LSTM, Dropout, Bidirectional, Embedding\n",
    "\n",
    "from keras.preprocessing.text import Tokenizer\n",
    "\n",
    "from wordcloud import WordCloud, STOPWORDS"
   ]
  },
  {
   "cell_type": "markdown",
   "id": "2ce5e4c8",
   "metadata": {
    "id": "2ce5e4c8"
   },
   "source": [
    "The website allthings.umphreys.com has every setlist organized by year, in URLs such as https://allthings.umphreys.com/setlists/2009. We create a list of urls for every year since the band started in 1998."
   ]
  },
  {
   "cell_type": "code",
   "execution_count": 2,
   "id": "5ecdccdb",
   "metadata": {
    "colab": {
     "base_uri": "https://localhost:8080/"
    },
    "id": "5ecdccdb",
    "outputId": "ccf6d7ed-3234-47aa-fddc-806fa3cb545b",
    "scrolled": true
   },
   "outputs": [
    {
     "data": {
      "text/plain": [
       "['https://allthings.umphreys.com/setlists/1998',\n",
       " 'https://allthings.umphreys.com/setlists/1999',\n",
       " 'https://allthings.umphreys.com/setlists/2000',\n",
       " 'https://allthings.umphreys.com/setlists/2001',\n",
       " 'https://allthings.umphreys.com/setlists/2002',\n",
       " 'https://allthings.umphreys.com/setlists/2003',\n",
       " 'https://allthings.umphreys.com/setlists/2004',\n",
       " 'https://allthings.umphreys.com/setlists/2005',\n",
       " 'https://allthings.umphreys.com/setlists/2006',\n",
       " 'https://allthings.umphreys.com/setlists/2007',\n",
       " 'https://allthings.umphreys.com/setlists/2008',\n",
       " 'https://allthings.umphreys.com/setlists/2009',\n",
       " 'https://allthings.umphreys.com/setlists/2010',\n",
       " 'https://allthings.umphreys.com/setlists/2011',\n",
       " 'https://allthings.umphreys.com/setlists/2012',\n",
       " 'https://allthings.umphreys.com/setlists/2013',\n",
       " 'https://allthings.umphreys.com/setlists/2014',\n",
       " 'https://allthings.umphreys.com/setlists/2015',\n",
       " 'https://allthings.umphreys.com/setlists/2016',\n",
       " 'https://allthings.umphreys.com/setlists/2017',\n",
       " 'https://allthings.umphreys.com/setlists/2018',\n",
       " 'https://allthings.umphreys.com/setlists/2019',\n",
       " 'https://allthings.umphreys.com/setlists/2020',\n",
       " 'https://allthings.umphreys.com/setlists/2021',\n",
       " 'https://allthings.umphreys.com/setlists/2022']"
      ]
     },
     "execution_count": 2,
     "metadata": {},
     "output_type": "execute_result"
    }
   ],
   "source": [
    "urls = ['https://allthings.umphreys.com/setlists/' + str(year) for year in range(1998,2023)]\n",
    "urls"
   ]
  },
  {
   "cell_type": "markdown",
   "id": "80d5fa22",
   "metadata": {
    "id": "80d5fa22"
   },
   "source": [
    "By inspecting the source code, we can observe that the text for each show's setlist is contained in an html class 'setlist setlist-container.'\n",
    "\n",
    "<img src=\"Documents/GitHub/UM-setlist-generator/ATUsourcecode.png\" width=1200 height=1200 />\n",
    "\n",
    "We use BeautifulSoup to scrape the text for the setlists for each show, for each year, and contain them in a list of strings. "
   ]
  },
  {
   "cell_type": "code",
   "execution_count": 3,
   "id": "210edb91",
   "metadata": {
    "id": "210edb91"
   },
   "outputs": [],
   "source": [
    "setlists = []\n",
    "\n",
    "for url in urls:\n",
    "    webpage = requests.get(url)\n",
    "    soup = BeautifulSoup(webpage.content,'html.parser')\n",
    "    matches = soup.find_all(class_='setlist setlist-container')\n",
    "    for match in matches:\n",
    "        setlists.append(match.get_text())\n",
    "        \n",
    "setlists_pretoken = np.array(setlists)"
   ]
  },
  {
   "cell_type": "code",
   "execution_count": 4,
   "id": "188ce44f",
   "metadata": {
    "colab": {
     "base_uri": "https://localhost:8080/"
    },
    "id": "188ce44f",
    "outputId": "59025c0d-9195-4f27-aa05-68abb290faf5"
   },
   "outputs": [
    {
     "name": "stdout",
     "output_type": "stream",
     "text": [
      "This list contains 2603 setlists.\n"
     ]
    }
   ],
   "source": [
    "setlists_size = len(setlists_pretoken)\n",
    "print(f'This list contains {setlists_size} setlists.')"
   ]
  },
  {
   "cell_type": "markdown",
   "id": "27965dd0",
   "metadata": {},
   "source": [
    "Here is an example of what an actual setlist looks like."
   ]
  },
  {
   "cell_type": "code",
   "execution_count": 124,
   "id": "7579232e",
   "metadata": {
    "colab": {
     "base_uri": "https://localhost:8080/"
    },
    "id": "7579232e",
    "outputId": "f8a9afee-438d-4635-d374-adfacd0924b5",
    "scrolled": true
   },
   "outputs": [
    {
     "name": "stdout",
     "output_type": "stream",
     "text": [
      "\n",
      "\n",
      "\n",
      "\n",
      "\n",
      " July 11, 2013\n",
      "Umphrey's McGee —\r\n",
      "\t\t\t\tIndian Lookout Country Club — Mariaville, NY, USA \"Camp Bisco\" \r\n",
      "\t\t\t\n",
      "\n",
      "\n",
      "One Set: Wappy Sprayberry[1] >  Breathe[2],  The Triple Wide[3],  In The Kitchen[4],  Partyin' Peeps[4],  Home Again[5],  The Linear[6],  Booth Love[7] \n",
      "\n",
      "\n",
      "Footnotes:    [1] with David Murphy on bass    [2] with David Murphy on bass; dub version    [3] with David Murphy on bass; \"Jimmy Stewart\" with lyrics    [4] with Marc Brownstein on bass    [5] with Marc Brownstein on bass and vocals and Jon Gutwillig on guitar and vocals    [6] with Bryan Doherty on bass    [7] with Bryan Doherty on bass, and with Aron Magner joining Joel on keytars\n",
      "Show Notes: entire show without Ryan\r\n",
      "Main 1 Stage\r\n",
      "last Home Again 2006-05-05 (837 shows)\n",
      "Links:    UMLive\n",
      "\n",
      "\n"
     ]
    }
   ],
   "source": [
    "print(setlists_pretoken[1871])"
   ]
  },
  {
   "cell_type": "markdown",
   "id": "1cd35607",
   "metadata": {
    "id": "1cd35607"
   },
   "source": [
    "We use the Tokenizer library to tokenize each character in the corpus of setlists, then create training sequences of length (training_length) characters and assign each one a label of the following character."
   ]
  },
  {
   "cell_type": "code",
   "execution_count": 6,
   "id": "91199765",
   "metadata": {
    "colab": {
     "base_uri": "https://localhost:8080/"
    },
    "id": "91199765",
    "outputId": "00131b88-4822-450c-f5a5-95dad0cfc40e"
   },
   "outputs": [
    {
     "name": "stdout",
     "output_type": "stream",
     "text": [
      "There are 84 unique characters.\n",
      "There are 1316376 training sequences.\n"
     ]
    }
   ],
   "source": [
    "training_length = 90\n",
    "\n",
    "#create tokenizer object and train on all setlists\n",
    "tokenizer = Tokenizer(char_level=True)\n",
    "tokenizer.fit_on_texts(setlists)\n",
    "    \n",
    "#create and store dictionaries between words and indices\n",
    "word_idx = tokenizer.word_index\n",
    "idx_word = tokenizer.index_word\n",
    "num_words = len(word_idx) + 1\n",
    "word_counts = tokenizer.word_counts\n",
    "\n",
    "#When we pre-pad the tokenized sequences, we might get 0's so we assign those to the empty string\n",
    "idx_word[0] = ''\n",
    "word_idx[''] = 0\n",
    " \n",
    "print(f'There are {num_words} unique characters.')\n",
    "\n",
    "#convert each setlist to sequence of indices\n",
    "sequences = tokenizer.texts_to_sequences(setlists)\n",
    "\n",
    "\n",
    "\n",
    "#create training examples out of the sequences\n",
    "features = []\n",
    "labels = []\n",
    "\n",
    "for seq in sequences:\n",
    "    \n",
    "    #pad any sequences that are shorter than the training length\n",
    "    if len(seq) < training_length:\n",
    "        \n",
    "        seq = tf.keras.preprocessing.sequence.pad_sequences([seq], maxlen=training_length).flatten()\n",
    "    \n",
    "    for i in range(training_length, len(seq)):\n",
    "        #extract (training_length)+1 characters\n",
    "        extract = seq[i-training_length:i+1]\n",
    "        \n",
    "        #the first (training_length) characters are the features, the following character after that is the label\n",
    "        features.append(extract[:-1])\n",
    "        labels.append(extract[-1])\n",
    "        \n",
    "print(f'There are {len(features)} training sequences.')"
   ]
  },
  {
   "cell_type": "code",
   "execution_count": 7,
   "id": "AvIhEsYHZXAm",
   "metadata": {
    "id": "AvIhEsYHZXAm"
   },
   "outputs": [],
   "source": [
    "num_epochs = 5\n",
    "num_batches = 64"
   ]
  },
  {
   "cell_type": "markdown",
   "id": "927ed228",
   "metadata": {},
   "source": [
    "Our model requests a batch size in advance, so we cut off the remainder of the sequences so that the size of the input is a multiple of the batch size."
   ]
  },
  {
   "cell_type": "code",
   "execution_count": 8,
   "id": "b63c0a6e",
   "metadata": {
    "colab": {
     "base_uri": "https://localhost:8080/"
    },
    "id": "b63c0a6e",
    "outputId": "151ebaef-cb2d-4d67-9ee5-2ae36e1592c8"
   },
   "outputs": [],
   "source": [
    "num_sequences = len(features)\n",
    "cutoff = (num_sequences//num_batches)*num_batches"
   ]
  },
  {
   "cell_type": "code",
   "execution_count": 9,
   "id": "aa180a41",
   "metadata": {},
   "outputs": [],
   "source": [
    "features = np.array(features[:cutoff])"
   ]
  },
  {
   "cell_type": "code",
   "execution_count": 10,
   "id": "927d65e4",
   "metadata": {},
   "outputs": [],
   "source": [
    "labels = np.array(labels[:cutoff])"
   ]
  },
  {
   "cell_type": "code",
   "execution_count": 11,
   "id": "ed428e37",
   "metadata": {},
   "outputs": [
    {
     "data": {
      "text/plain": [
       "array([19,  2,  3,  1, 15, 17, 19, 13,  8,  9,  2, 34,  5,  1, 24,  8, 11,\n",
       "       11,  8,  7, 19,  1,  5,  3,  6,  3,  8,  4,  7,  1, 39,  1,  5,  4,\n",
       "       13,  3, 10,  1, 23,  2,  7, 18, 16,  1,  8,  7, 16,  1, 13,  5,  6,\n",
       "       12, 12, 12, 12,  5,  2,  3,  1, 31, 30,  1, 23,  4, 23, 26, 31, 27,\n",
       "       16,  1,  1,  9,  2, 18,  1, 23,  6,  9,  4,  7, 26, 29, 27,  1, 25,\n",
       "        1,  1, 18,  8, 33])"
      ]
     },
     "execution_count": 11,
     "metadata": {},
     "output_type": "execute_result"
    }
   ],
   "source": [
    "features[50]"
   ]
  },
  {
   "cell_type": "code",
   "execution_count": 12,
   "id": "0d590953",
   "metadata": {},
   "outputs": [
    {
     "data": {
      "text/plain": [
       "8"
      ]
     },
     "execution_count": 12,
     "metadata": {},
     "output_type": "execute_result"
    }
   ],
   "source": [
    "labels[50]"
   ]
  },
  {
   "cell_type": "code",
   "execution_count": 33,
   "id": "58d0a92a",
   "metadata": {
    "id": "58d0a92a"
   },
   "outputs": [],
   "source": [
    "def lstm_model(batch_size):\n",
    "    model = tf.keras.models.Sequential()\n",
    "    model.add(Embedding(num_words, output_dim=256, input_length=training_length,     batch_input_shape = [batch_size, None]))\n",
    "    model.add(Bidirectional(LSTM(256,input_shape=(training_length,1),return_sequences=True,stateful=True)))\n",
    "    model.add(Dropout(0.3))\n",
    "    model.add(LSTM(128,return_sequences=False,stateful=True))\n",
    "    model.add(Dropout(0.5))\n",
    "    model.add(Dense(num_words,activation='softmax'))\n",
    "    return model"
   ]
  },
  {
   "cell_type": "code",
   "execution_count": 14,
   "id": "84f41149",
   "metadata": {},
   "outputs": [],
   "source": [
    "model = lstm_model(batch_size=num_batches)"
   ]
  },
  {
   "cell_type": "code",
   "execution_count": 15,
   "id": "67b0450d",
   "metadata": {
    "colab": {
     "base_uri": "https://localhost:8080/"
    },
    "id": "67b0450d",
    "outputId": "87d69798-d77a-4f24-b3e3-a13b1566d1ac",
    "scrolled": false
   },
   "outputs": [
    {
     "name": "stdout",
     "output_type": "stream",
     "text": [
      "Model: \"sequential\"\n",
      "_________________________________________________________________\n",
      " Layer (type)                Output Shape              Param #   \n",
      "=================================================================\n",
      " embedding (Embedding)       (64, None, 256)           21504     \n",
      "                                                                 \n",
      " bidirectional (Bidirectiona  (64, None, 512)          1050624   \n",
      " l)                                                              \n",
      "                                                                 \n",
      " dropout (Dropout)           (64, None, 512)           0         \n",
      "                                                                 \n",
      " lstm_1 (LSTM)               (64, 128)                 328192    \n",
      "                                                                 \n",
      " dropout_1 (Dropout)         (64, 128)                 0         \n",
      "                                                                 \n",
      " dense (Dense)               (64, 84)                  10836     \n",
      "                                                                 \n",
      "=================================================================\n",
      "Total params: 1,411,156\n",
      "Trainable params: 1,411,156\n",
      "Non-trainable params: 0\n",
      "_________________________________________________________________\n"
     ]
    }
   ],
   "source": [
    "model.summary()"
   ]
  },
  {
   "cell_type": "code",
   "execution_count": 16,
   "id": "77bc9eed",
   "metadata": {
    "colab": {
     "base_uri": "https://localhost:8080/",
     "height": 754
    },
    "id": "77bc9eed",
    "outputId": "615dfb00-3e75-4593-d9d8-8a3a1172892b"
   },
   "outputs": [
    {
     "data": {
      "image/png": "[encoded data removed]",
      "text/plain": [
       "<IPython.core.display.Image object>"
      ]
     },
     "execution_count": 16,
     "metadata": {},
     "output_type": "execute_result"
    }
   ],
   "source": [
    "tf.keras.utils.plot_model(\n",
    "    model,\n",
    "    show_shapes=True,\n",
    "    show_layer_names=True,\n",
    ")"
   ]
  },
  {
   "cell_type": "code",
   "execution_count": 17,
   "id": "8ddbff16",
   "metadata": {
    "id": "8ddbff16"
   },
   "outputs": [],
   "source": [
    "model.compile(optimizer='adam', loss='sparse_categorical_crossentropy',metrics=['accuracy'])"
   ]
  },
  {
   "cell_type": "code",
   "execution_count": 18,
   "id": "a1f97855",
   "metadata": {
    "colab": {
     "base_uri": "https://localhost:8080/"
    },
    "id": "a1f97855",
    "outputId": "e7315dd4-b32d-454d-8b16-f664effb90c3",
    "scrolled": true
   },
   "outputs": [
    {
     "name": "stdout",
     "output_type": "stream",
     "text": [
      "Epoch 1/5\n",
      "14110/14110 [==============================] - 2969s 209ms/step - loss: 1.4534 - accuracy: 0.5909\n",
      "Epoch 2/5\n",
      "14110/14110 [==============================] - 2120s 150ms/step - loss: 0.9958 - accuracy: 0.7107\n",
      "Epoch 3/5\n",
      "14110/14110 [==============================] - 2065s 146ms/step - loss: 0.9088 - accuracy: 0.7325\n",
      "Epoch 4/5\n",
      "14110/14110 [==============================] - 2062s 146ms/step - loss: 0.8706 - accuracy: 0.7422\n",
      "Epoch 5/5\n",
      "14110/14110 [==============================] - 2062s 146ms/step - loss: 0.8515 - accuracy: 0.7465\n"
     ]
    }
   ],
   "source": [
    "history = model.fit(features, labels, epochs=num_epochs, batch_size=num_batches)"
   ]
  },
  {
   "cell_type": "markdown",
   "id": "3a99dc0b",
   "metadata": {},
   "source": [
    "model.save_weights('UM_weights_250_chars')"
   ]
  },
  {
   "cell_type": "code",
   "execution_count": 20,
   "id": "b4103732",
   "metadata": {
    "colab": {
     "base_uri": "https://localhost:8080/"
    },
    "id": "b4103732",
    "outputId": "6bae3209-8d4b-403e-a65b-2fde9da71cd2"
   },
   "outputs": [
    {
     "data": {
      "text/plain": [
       "{'loss': [1.453431487083435,\n",
       "  0.9958110451698303,\n",
       "  0.9087520837783813,\n",
       "  0.8705847859382629,\n",
       "  0.8514686226844788],\n",
       " 'accuracy': [0.5908553600311279,\n",
       "  0.7106894254684448,\n",
       "  0.7324526309967041,\n",
       "  0.742238461971283,\n",
       "  0.7464541792869568]}"
      ]
     },
     "execution_count": 20,
     "metadata": {},
     "output_type": "execute_result"
    }
   ],
   "source": [
    "history.history"
   ]
  },
  {
   "cell_type": "code",
   "execution_count": 21,
   "id": "5bfa8dd1",
   "metadata": {
    "colab": {
     "base_uri": "https://localhost:8080/",
     "height": 864
    },
    "id": "5bfa8dd1",
    "outputId": "226771bf-5d7a-45e1-ceca-68a8a778f61f",
    "scrolled": true
   },
   "outputs": [
    {
     "data": {
      "image/png": "[encoded data removed]",
      "text/plain": [
       "<Figure size 720x360 with 2 Axes>"
      ]
     },
     "metadata": {
      "needs_background": "light"
     },
     "output_type": "display_data"
    }
   ],
   "source": [
    "fig = plt.figure(figsize=(10,5))\n",
    "\n",
    "plt.subplot(1,2,1)\n",
    "plt.plot(range(len(history.history['loss'])),history.history['loss'])\n",
    "\n",
    "#plt.subplot(1,2,1)\n",
    "#plt.plot(range(len(history.history['val_loss'])),history.history['val_loss'])\n",
    "\n",
    "plt.xlabel('Epochs')\n",
    "plt.ylabel('Loss')\n",
    "plt.legend(['Training Data'])\n",
    "plt.title('Loss')\n",
    "\n",
    "plt.subplot(1,2,2)\n",
    "plt.plot(range(len(history.history['accuracy'])),history.history['accuracy'])\n",
    "\n",
    "#plt.subplot(1,2,2)\n",
    "#plt.plot(range(len(history.history['val_accuracy'])),history.history['val_accuracy'])\n",
    "\n",
    "plt.xlabel('Epochs')\n",
    "plt.ylabel('Accuracy')\n",
    "plt.legend(['Training Data'])\n",
    "\n",
    "plt.title('Accuracy')\n",
    "\n",
    "plt.show()"
   ]
  },
  {
   "cell_type": "markdown",
   "id": "6019ad38",
   "metadata": {},
   "source": [
    "To make predictions using this model, we need a batch size of 1, so we create a new model with batch size 1 and load the weights from the training model. "
   ]
  },
  {
   "cell_type": "code",
   "execution_count": 17,
   "id": "53b7117e",
   "metadata": {},
   "outputs": [],
   "source": [
    "prediction_model = lstm_model(batch_size=1)"
   ]
  },
  {
   "cell_type": "code",
   "execution_count": 18,
   "id": "5e3e95f8",
   "metadata": {},
   "outputs": [
    {
     "name": "stdout",
     "output_type": "stream",
     "text": [
      "Model: \"sequential_1\"\n",
      "_________________________________________________________________\n",
      " Layer (type)                Output Shape              Param #   \n",
      "=================================================================\n",
      " embedding_1 (Embedding)     (1, None, 256)            21504     \n",
      "                                                                 \n",
      " bidirectional_1 (Bidirectio  (1, None, 512)           1050624   \n",
      " nal)                                                            \n",
      "                                                                 \n",
      " dropout_2 (Dropout)         (1, None, 512)            0         \n",
      "                                                                 \n",
      " lstm_3 (LSTM)               (1, 128)                  328192    \n",
      "                                                                 \n",
      " dropout_3 (Dropout)         (1, 128)                  0         \n",
      "                                                                 \n",
      " dense_1 (Dense)             (1, 84)                   10836     \n",
      "                                                                 \n",
      "=================================================================\n",
      "Total params: 1,411,156\n",
      "Trainable params: 1,411,156\n",
      "Non-trainable params: 0\n",
      "_________________________________________________________________\n"
     ]
    }
   ],
   "source": [
    "prediction_model.summary()"
   ]
  },
  {
   "cell_type": "code",
   "execution_count": 103,
   "id": "5e4ef89d",
   "metadata": {},
   "outputs": [
    {
     "data": {
      "text/plain": [
       "<tensorflow.python.training.tracking.util.CheckpointLoadStatus at 0x1c570e2d610>"
      ]
     },
     "execution_count": 103,
     "metadata": {},
     "output_type": "execute_result"
    }
   ],
   "source": [
    "prediction_model.load_weights('UM_weights_90_chars')"
   ]
  },
  {
   "cell_type": "code",
   "execution_count": null,
   "id": "fff07d7a",
   "metadata": {},
   "outputs": [],
   "source": []
  },
  {
   "cell_type": "code",
   "execution_count": 104,
   "id": "79c2513f",
   "metadata": {},
   "outputs": [],
   "source": [
    "example = np.array(sequences[2050][:training_length])"
   ]
  },
  {
   "cell_type": "code",
   "execution_count": 105,
   "id": "2a57c01a",
   "metadata": {},
   "outputs": [
    {
     "data": {
      "text/plain": [
       "(90,)"
      ]
     },
     "execution_count": 105,
     "metadata": {},
     "output_type": "execute_result"
    }
   ],
   "source": [
    "example.shape"
   ]
  },
  {
   "cell_type": "code",
   "execution_count": 106,
   "id": "a030dc34",
   "metadata": {},
   "outputs": [],
   "source": [
    "example = np.reshape(example, (1,training_length))"
   ]
  },
  {
   "cell_type": "code",
   "execution_count": 107,
   "id": "7a6c62a6",
   "metadata": {},
   "outputs": [
    {
     "name": "stdout",
     "output_type": "stream",
     "text": [
      "\n",
      "\n",
      "\n",
      "\n",
      "\n",
      " march 21, 2015\n",
      "umphrey's mcgee —\r\n",
      "\t\t\t\tthe moore theatre — seattle, wa, usa\n",
      "\n",
      "\n",
      "\n",
      "set 1:\n"
     ]
    }
   ],
   "source": [
    "print(''.join([idx_word[e] for e in example.flatten()]))"
   ]
  },
  {
   "cell_type": "code",
   "execution_count": 108,
   "id": "571e9dc7",
   "metadata": {},
   "outputs": [],
   "source": [
    "prediction_model.reset_states()"
   ]
  },
  {
   "cell_type": "code",
   "execution_count": 109,
   "id": "d52c29f9",
   "metadata": {},
   "outputs": [],
   "source": [
    "pred = prediction_model.predict(example,batch_size=1)"
   ]
  },
  {
   "cell_type": "code",
   "execution_count": 110,
   "id": "0b456c38",
   "metadata": {},
   "outputs": [
    {
     "data": {
      "text/plain": [
       "(1, 84)"
      ]
     },
     "execution_count": 110,
     "metadata": {},
     "output_type": "execute_result"
    }
   ],
   "source": [
    "pred.shape"
   ]
  },
  {
   "cell_type": "code",
   "execution_count": 111,
   "id": "3e3ff36d",
   "metadata": {
    "scrolled": true
   },
   "outputs": [
    {
     "name": "stdout",
     "output_type": "stream",
     "text": [
      "\n",
      "\n",
      "\n",
      "\n",
      "\n",
      " march 21, 2015\n",
      "umphrey's mcgee —\r\n",
      "\t\t\t\tthe moore theatre — seattle, wa, usa\n",
      "\n",
      "\n",
      "\n",
      "set 1:\n"
     ]
    }
   ],
   "source": [
    "print(''.join([idx_word[s] for s in example.flatten()]))"
   ]
  },
  {
   "cell_type": "code",
   "execution_count": 115,
   "id": "3199dbd3",
   "metadata": {},
   "outputs": [
    {
     "data": {
      "text/plain": [
       "(1, 90)"
      ]
     },
     "execution_count": 115,
     "metadata": {},
     "output_type": "execute_result"
    }
   ],
   "source": [
    "pattern = np.reshape(example[:training_length], (1,training_length))\n",
    "pattern.shape"
   ]
  },
  {
   "cell_type": "code",
   "execution_count": 73,
   "id": "2fac0252",
   "metadata": {},
   "outputs": [],
   "source": [
    "setlist_output = pattern.flatten()\n",
    "for _ in range(1000):\n",
    "    pred = prediction_model.predict(pattern,batch_size=1)\n",
    "    index = np.random.choice(num_words,p=pred.flatten())\n",
    "#    print('---')\n",
    "    pattern = np.append(pattern,index)\n",
    "    setlist_output = np.append(setlist_output,index)\n",
    "    pattern = pattern[1:training_length+1]\n",
    "    result = ''.join([idx_word[s] for s in pattern])\n",
    "    pattern = np.reshape(pattern, (1,training_length))\n",
    "#    sys.stdout.write(result)"
   ]
  },
  {
   "cell_type": "code",
   "execution_count": 156,
   "id": "fd75d6af",
   "metadata": {},
   "outputs": [],
   "source": [
    "st = 'May 23, 2022\\nPittsburgh, PA'\n",
    "sequ = tokenizer.texts_to_sequences(st)"
   ]
  },
  {
   "cell_type": "code",
   "execution_count": 144,
   "id": "cfcad02c",
   "metadata": {},
   "outputs": [
    {
     "data": {
      "text/plain": [
       "[[15], [6], [21], [1], [29], [40], [16], [1], [29], [36], [29], [29]]"
      ]
     },
     "execution_count": 144,
     "metadata": {},
     "output_type": "execute_result"
    }
   ],
   "source": [
    "sequ"
   ]
  },
  {
   "cell_type": "code",
   "execution_count": 145,
   "id": "21c6aeae",
   "metadata": {},
   "outputs": [],
   "source": [
    "def generate_setlist(seed, length):\n",
    "    #inputs a string as the seed and then uses the model to generate the next (length) characters\n",
    "    sequ = np.array(tokenizer.texts_to_sequences(seed))\n",
    "    \n",
    "    #pre-pad the seed sequence if it is shorter than the training length\n",
    "    if len(sequ.flatten()) < training_length:\n",
    "        sequ = tf.keras.preprocessing.sequence.pad_sequences([sequ], maxlen=training_length).flatten()\n",
    "    \n",
    "    setlist_output = sequ\n",
    "    \n",
    "    for _ in range(length):\n",
    "        sequ = np.reshape(sequ, (1,training_length))\n",
    "\n",
    "        pred = prediction_model.predict(sequ,batch_size=1)\n",
    "        index = np.random.choice(num_words,p=pred.flatten())\n",
    "    \n",
    "        sequ = np.append(sequ,index)\n",
    "        setlist_output = np.append(setlist_output,index)\n",
    "        sequ = sequ[1:training_length+1]\n",
    "\n",
    "    \n",
    "    return setlist_output"
   ]
  },
  {
   "cell_type": "code",
   "execution_count": 150,
   "id": "fb0a73f2",
   "metadata": {},
   "outputs": [],
   "source": [
    "def print_setlist(setlist_output):\n",
    "    print(''.join([idx_word[s] for s in setlist_output]))"
   ]
  },
  {
   "cell_type": "code",
   "execution_count": 157,
   "id": "e77274d7",
   "metadata": {},
   "outputs": [
    {
     "name": "stdout",
     "output_type": "stream",
     "text": [
      "may 23, 2022\n",
      "pittsburgh, partiss michelt) tease    [3] with soul food ii jam    [6] with just walk\n",
      "\n",
      "\n",
      "\n",
      "set 1: low salf >  der bluten kat[1] >  ringo >  professor wormbog,  the linear >  day nurse >  kabump >  kimble,  attachments >  glory \n",
      "\n",
      "\n",
      "footnotes:    [1] debut, poved    [2] debut, ridgerritoni (sfney's fove on drums, nyiexdaeck    [3] \"ligh dill ciftlesing on guitar    [2] with hingers (jeming walaronger knows (rage stage    [4] debut, original    [3] with the nod under from fevis for al osted ganydal\" a man gird) jam\n"
     ]
    }
   ],
   "source": [
    "xd = generate_setlist(st, 500)\n",
    "print_setlist(xd)"
   ]
  },
  {
   "cell_type": "code",
   "execution_count": null,
   "id": "90ee80e2",
   "metadata": {},
   "outputs": [],
   "source": []
  },
  {
   "cell_type": "code",
   "execution_count": null,
   "id": "0b15697b",
   "metadata": {},
   "outputs": [],
   "source": []
  }
 ],
 "metadata": {
  "accelerator": "GPU",
  "colab": {
   "collapsed_sections": [],
   "name": "UM data scraping-characterwise-Copy1.ipynb",
   "provenance": []
  },
  "kernelspec": {
   "display_name": "Python 3 (ipykernel)",
   "language": "python",
   "name": "python3"
  },
  "language_info": {
   "codemirror_mode": {
    "name": "ipython",
    "version": 3
   },
   "file_extension": ".py",
   "mimetype": "text/x-python",
   "name": "python",
   "nbconvert_exporter": "python",
   "pygments_lexer": "ipython3",
   "version": "3.9.7"
  }
 },
 "nbformat": 4,
 "nbformat_minor": 5
}
